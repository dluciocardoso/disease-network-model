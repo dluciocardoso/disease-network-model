{
 "cells": [
  {
   "cell_type": "code",
   "execution_count": 170,
   "metadata": {
    "collapsed": true
   },
   "outputs": [],
   "source": [
    "import numpy as np\n",
    "from collections import Counter"
   ]
  },
  {
   "cell_type": "code",
   "execution_count": 195,
   "metadata": {
    "collapsed": false
   },
   "outputs": [],
   "source": [
    "class Individual(object):\n",
    "    def __init__(self, id, state=0, friends=[], properties=\"\"):\n",
    "        \"\"\"\n",
    "            Creates an individual in the network.\n",
    "            @params:\n",
    "                id : the ID of this individual\n",
    "                state: the state of this individual \n",
    "                friends: array of (individual_id, contact_strength) \n",
    "                        that describes this individuals connectsion\n",
    "                properties: a comma separated string with characteristics\n",
    "        \"\"\"\n",
    "        self.id = id\n",
    "        self.friends = friends if len(friends) else [] # tuples containing (individual_id, contact_strength)\n",
    "        self.state = state \n",
    "        self.properties = properties\n",
    "    def add_connection(self, friend_id, contact_strength=1):\n",
    "        \"\"\"\n",
    "            Adds a connection to this individual\n",
    "            @params:\n",
    "                friend_id: the ID of the friend\n",
    "                contact_strength: the strength of the contact [=1]\n",
    "        \"\"\"\n",
    "        self.friends.append((friend_id, contact_strength))\n",
    "    def describe_friends(self, individuals):\n",
    "        return Counter(map(lambda f: individuals[f[0]].properties, self.friends))\n",
    "    def __repr__(self):\n",
    "        return \"<< INDIVIDUAL_ID:\"+str(self.id)+\", STATE:\"+str(self.state)+\", \"+\"PROPERTIES:\"+str(self.properties)+\">>\"\n",
    "    def __str__(self):\n",
    "        return \"<< INDIVIDUAL_ID:\"+str(self.id)+\", STATE:\"+str(self.state)+\", \"+\"PROPERTIES:\"+str(self.properties)+\"\\n\"+\"FRIENDS:\"+str(self.friends)+\">>\\n\""
   ]
  },
  {
   "cell_type": "code",
   "execution_count": 200,
   "metadata": {
    "collapsed": false
   },
   "outputs": [],
   "source": [
    "class Model(object):\n",
    "    def __init__(self, num_individuals, num_connections, partitioning,  friend_distribution, states=[0,1], symmetric=True):\n",
    "        \"\"\"\n",
    "            Creates a Network of individuals\n",
    "            @params:\n",
    "                num_individuals: the number of individuals in this network\n",
    "                num_connections: the average number of connections in this network OR\n",
    "                        a dict with the average number of connections for each partitioning.\n",
    "                        note that the number can be a function that returns an integer.\n",
    "                        eg: {\"MALE,1\": 5, \"FEMALE,1\":6, ... }\n",
    "                        OR {\"MALE,1\": lambda : np.random.poisson(5) }\n",
    "                partitioning: describes how the individuals should be partitioned. \n",
    "                        Must be a dictionary whose keys are comma separated according to characteristics.\n",
    "                        (!) entries must add to 1\n",
    "                        @example:\n",
    "                            {\"MALE,1\":0.5, \"MALE,2\":0.25, \"FEMALE,1\":0, \"FEMALE,2\":0.25}\n",
    "                friend_distribution: describes how the connections should be added in the network.\n",
    "                        Must be a dictionary of tuples containing characteristics.\n",
    "                    @example:\n",
    "                        {(\"MALE,1\",\"FEMALE,2\"):0.5, (\"MALE,1\",\"MALE,2\"):0.75,...}\n",
    "                states: the states in this model (=[0,1]) (state[0] must be the default state)\n",
    "                symmetric: if True it implies that if X is friends with Y, it automatically implies that Y is friends with X\n",
    "                # (!) contact strenghts not yet supported.\n",
    "        \"\"\"\n",
    "        assert np.sum(partitioning.values()) == 1, 'Partitioning must add to 1. Instead added to: '+str(np.sum(partitioning.values()))\n",
    "        assert len(states) >= 1, 'Must have atleast 1 state'\n",
    "        assert type(num_connections) in [int, dict], 'number of connections is of unknown type.'\n",
    "        # create a partitioning for easy access later.\n",
    "        self.partitioning = { key: [] for key in partitioning.keys() }\n",
    "        self.individuals = []\n",
    "        \n",
    "        # create our individuals\n",
    "        for i in range(num_individuals):\n",
    "            \n",
    "            unif = np.random.random() # generate a uniform variable\n",
    "            # determine the partition of this individual:\n",
    "\n",
    "            prev_prob = 0 \n",
    "            selected_key = \"\"\n",
    "            for key, prob in partitioning.items():\n",
    "                # just checks if a uniform is in a certain length\n",
    "                if unif <= prev_prob+prob and unif > prev_prob:\n",
    "                    selected_key = key\n",
    "                    break\n",
    "                else:\n",
    "                    prev_prob += prob\n",
    "            \n",
    "            created_individual = Individual(i, properties=selected_key, state=states[0])\n",
    "            \n",
    "            self.individuals.append(created_individual)\n",
    "            self.partitioning[selected_key].append(created_individual)\n",
    "        \n",
    "        # format the connections variable properly. \n",
    "        if type(num_connections) is int:\n",
    "            num_connections = { key: num_connections for key in partitioning.keys()}\n",
    "        \n",
    "        # calculate the total number of connections in this network\n",
    "        total_num_connections = 0\n",
    "        try:\n",
    "            for k,v in self.partition_summary():\n",
    "                # check if the number is actualy a number or a function.\n",
    "                total_num_connections += num_connections[k]() * v if hasattr(num_connections[k], '__call__') else num_connections[k] * v\n",
    "        except KeyError as e:\n",
    "            raise Exception(\"A key wasn't specified in num_connections: \"+ str(e))\n",
    "            \n",
    "\n",
    "        # create some connections\n",
    "        j = 0\n",
    "        while j < total_num_connections:\n",
    "            if j > total_num_connections * 5:\n",
    "                raise Exception(\"Made too many connection attempts\")\n",
    "                \n",
    "            # pick a random individual from the population\n",
    "            individual_1 = self.individuals[np.random.randint(num_individuals)]\n",
    "            individual_2 = self.individuals[np.random.randint(num_individuals)]\n",
    "            if individual_1.id == individual_2.id: #make sure they are not the same\n",
    "                continue\n",
    "            \n",
    "            # determine the average number of connections for this individual:\n",
    "            k = individual_1.properties # the property\n",
    "            avg_num_connections = num_connections[k]() if hasattr(num_connections[k], '__call__') else num_connections[k] \n",
    "\n",
    "            if len(individual_1.friends) < avg_num_connections:\n",
    "                # only add a new friend if the current num of connections is less than the avg.\n",
    "\n",
    "                # get the probabilitiy of such a pair being friends.\n",
    "                try:\n",
    "                    prob_of_friendship = friend_distribution[(individual_1.properties, individual_2.properties)]\n",
    "                except KeyError as e: # could not find the pair, try the reverse if symmetrical.\n",
    "                    if symmetric:\n",
    "                        prob_of_friendship = friend_distribution[(individual_2.properties, individual_1.properties)]\n",
    "                    else:\n",
    "                        raise KeyError('Could not find pair friendship probability.')\n",
    "\n",
    "                # determine if the friend pair will exist\n",
    "                unif = np.random.random()\n",
    "                if unif < prob_of_friendship:\n",
    "                    individual_1.add_connection(individual_2.id)\n",
    "                    if symmetric:\n",
    "                        individual_2.add_connection(individual_1.id)\n",
    "\n",
    "            j+=1 #increment\n",
    "\n",
    "    def partition_summary(self, detailed=False):\n",
    "        if detailed:\n",
    "            raise NotImplemented(\"Not Implemented Yet\")\n",
    "        else:\n",
    "            return map( lambda (k,v): (k,len(v)), self.partitioning.items())"
   ]
  },
  {
   "cell_type": "code",
   "execution_count": 201,
   "metadata": {
    "collapsed": false,
    "scrolled": false
   },
   "outputs": [],
   "source": [
    "model = Model(10, \n",
    "              {\"SCI,1\": 5, \"SCI,2\":5, \"HUM,1\":lambda:5, \"HUM,2\":lambda:np.random.poisson(5)}, \n",
    "              {\"SCI,1\":0.30, \"SCI,2\":0.2, \"HUM,1\":0.30, \"HUM,2\":0.2}, \n",
    "              { (\"SCI,1\",\"SCI,1\"):0.9,\n",
    "               (\"SCI,1\",\"HUM,2\"):0,\n",
    "               (\"HUM,2\",\"HUM,2\"):0.9,\n",
    "               (\"SCI,2\",\"SCI,2\"):0.9,\n",
    "               (\"SCI,1\",\"HUM,1\"):0.5,\n",
    "               (\"SCI,2\", \"HUM,2\"):0.2,\n",
    "               (\"HUM,1\",\"HUM,1\"):0.9,\n",
    "               (\"HUM,1\",\"SCI,2\"):0,\n",
    "               (\"SCI,1\",\"SCI,2\"):0.6,\n",
    "               (\"HUM,1\", \"HUM,2\"):0.6\n",
    "              })"
   ]
  },
  {
   "cell_type": "code",
   "execution_count": 202,
   "metadata": {
    "collapsed": false
   },
   "outputs": [
    {
     "data": {
      "text/plain": [
       "[('HUM,2', 2), ('HUM,1', 2), ('SCI,2', 2), ('SCI,1', 4)]"
      ]
     },
     "execution_count": 202,
     "metadata": {},
     "output_type": "execute_result"
    }
   ],
   "source": [
    "model.partition_summary()"
   ]
  },
  {
   "cell_type": "code",
   "execution_count": 203,
   "metadata": {
    "collapsed": false
   },
   "outputs": [
    {
     "data": {
      "text/plain": [
       "{'HUM,1': [Counter({'HUM,1': 2, 'HUM,2': 1, 'SCI,1': 1}),\n",
       "  Counter({'HUM,1': 2, 'SCI,1': 1})],\n",
       " 'HUM,2': [Counter({'HUM,2': 1}), Counter({'HUM,1': 1, 'HUM,2': 1})],\n",
       " 'SCI,1': [Counter({'HUM,1': 1, 'SCI,1': 2, 'SCI,2': 2}),\n",
       "  Counter({'SCI,1': 3}),\n",
       "  Counter({'SCI,1': 1, 'SCI,2': 2}),\n",
       "  Counter({'HUM,1': 1, 'SCI,1': 2, 'SCI,2': 3})],\n",
       " 'SCI,2': [Counter({'SCI,1': 4, 'SCI,2': 2}),\n",
       "  Counter({'SCI,1': 3, 'SCI,2': 2})]}"
      ]
     },
     "execution_count": 203,
     "metadata": {},
     "output_type": "execute_result"
    }
   ],
   "source": [
    "{ k:map(lambda i: i.describe_friends(model.individuals), model.partitioning[k]) for k in model.partitioning.keys() }"
   ]
  },
  {
   "cell_type": "code",
   "execution_count": null,
   "metadata": {
    "collapsed": true
   },
   "outputs": [],
   "source": []
  }
 ],
 "metadata": {
  "kernelspec": {
   "display_name": "Python 2",
   "language": "python",
   "name": "python2"
  },
  "language_info": {
   "codemirror_mode": {
    "name": "ipython",
    "version": 2
   },
   "file_extension": ".py",
   "mimetype": "text/x-python",
   "name": "python",
   "nbconvert_exporter": "python",
   "pygments_lexer": "ipython2",
   "version": "2.7.10"
  }
 },
 "nbformat": 4,
 "nbformat_minor": 0
}
